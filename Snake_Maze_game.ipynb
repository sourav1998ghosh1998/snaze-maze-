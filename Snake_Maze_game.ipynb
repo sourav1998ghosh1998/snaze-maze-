{
  "nbformat": 4,
  "nbformat_minor": 0,
  "metadata": {
    "colab": {
      "name": "Snake_Maze_game.ipynb",
      "version": "0.3.2",
      "provenance": [],
      "include_colab_link": true
    },
    "kernelspec": {
      "name": "python2",
      "display_name": "Python 2"
    }
  },
  "cells": [
    {
      "cell_type": "markdown",
      "metadata": {
        "id": "view-in-github",
        "colab_type": "text"
      },
      "source": [
        "<a href=\"https://colab.research.google.com/github/sourav1998ghosh1998/snaze-maze-/blob/master/Snake_Maze_game.ipynb\" target=\"_parent\"><img src=\"https://colab.research.google.com/assets/colab-badge.svg\" alt=\"Open In Colab\"/></a>"
      ]
    },
    {
      "metadata": {
        "id": "a_TpcpnpRnLb",
        "colab_type": "code",
        "colab": {}
      },
      "cell_type": "code",
      "source": [
        ""
      ],
      "execution_count": 0,
      "outputs": []
    },
    {
      "metadata": {
        "id": "xBbrREsmsOkj",
        "colab_type": "text"
      },
      "cell_type": "markdown",
      "source": [
        "# Snake Maze Game Code in Python"
      ]
    },
    {
      "metadata": {
        "id": "JxNtPiG8LHbZ",
        "colab_type": "code",
        "colab": {}
      },
      "cell_type": "code",
      "source": [
        "\n",
        "import random\n",
        "import curses\n",
        "s= curses.initscr()\n",
        "curses.curs_sets(0)\n",
        "sh,sw= s.getmaxyx()\n",
        "w= curses.newwin(sh,sw,0,0)\n",
        "w.keypad(1)\n",
        "w.timeout(100)\n",
        "\n",
        "\n",
        "\n",
        "snk_x=sw/4\n",
        "snk_y=sh/4\n",
        "snake=[\n",
        "    [snk_y,snk_x],\n",
        "    [snk_y,snk_x-1],\n",
        "    [snk_y,snk_x-2]\n",
        "]\n",
        "\n",
        "food=[sh/2,sw/2]\n",
        "w.addch(food[0],food[1],curses.ACS_PI)\n",
        "\n",
        "key= curses.KEY_RIGHT\n",
        "while true:\n",
        "  next_key = w.getch()\n",
        "  key= key if next_key==-1 else next_key\n",
        "  if snake[0][0] in [0,sh] or snake[0][1] in [0][sw] or snake[0]in snake[1:]:\n",
        "    curses.endwin()\n",
        "    quit()\n",
        "    \n",
        "    new_head[snake[0][0],snake[0][1]]\n",
        "    \n",
        "    if key==curses.KEY_DOWN:\n",
        "      new_head[0]+=1\n",
        "    if key==curses.KEY_UP:\n",
        "      new_head[0]-=1\n",
        "    if key==curses.KEY_LEFT:\n",
        "      new_head[0]-=1\n",
        "    if key==curses.KEY_RIGHT:\n",
        "      new_head[0]+=1\n",
        "      \n",
        "      \n",
        "    snake.insert(0,new_head)\n",
        "    \n",
        "    if snake[0]== food:\n",
        "      food= None\n",
        "      while food is None:\n",
        "       nf = [\n",
        "            random.randint(1,sh-1),\n",
        "            random.randint(1,sw-1)\n",
        "          \n",
        "            ]\n",
        "\n",
        "      food=nf if nf not in snake else None\n",
        "      w.addch(food[0],food[1],curses.ACS_PI)\n",
        "    else:\n",
        "        tail = snake.pop()\n",
        "        w.addch(tail[0],tail[1],'')\n",
        "        \n",
        "        w.addch(snake[0][0],snake[0][1],curses.ACS_CKBOARD)\n",
        "\n"
      ],
      "execution_count": 0,
      "outputs": []
    }
  ]
}